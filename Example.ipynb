{
 "cells": [
  {
   "cell_type": "code",
   "execution_count": 1,
   "metadata": {
    "ExecuteTime": {
     "end_time": "2019-06-30T00:06:45.071057Z",
     "start_time": "2019-06-30T00:06:43.432061Z"
    }
   },
   "outputs": [
    {
     "name": "stdout",
     "output_type": "stream",
     "text": [
      "2019/06/29 17:06\n",
      "OS: win32\n",
      "CPU Cores: 8\n",
      "Python: 3.6.6 |Anaconda custom (64-bit)| (default, Jun 28 2018, 11:27:44) [MSC v.1900 64 bit (AMD64)]\n",
      "NumPy: 1.14.5\n",
      "Pandas: 0.23.3\n",
      "Scikit-Learn: 0.20.0\n"
     ]
    }
   ],
   "source": [
    "import numpy as np\n",
    "import pandas as pd\n",
    "import matplotlib.pyplot as plt\n",
    "\n",
    "import mlcookbook\n",
    "\n",
    "from sklearn.datasets import load_boston, load_breast_cancer\n",
    "from seaborn import load_dataset\n",
    "\n",
    "%matplotlib inline\n",
    "\n",
    "mlcookbook.diagnostics()\n",
    "\n",
    "boston_data = load_boston()\n",
    "data = pd.DataFrame(boston_data.data, columns=boston_data.feature_names)\n",
    "data['Target'] = boston_data.target\n",
    "\n",
    "breast_cancer_data = load_breast_cancer()\n",
    "categorical_data = pd.DataFrame(\n",
    "    breast_cancer_data.data, columns=breast_cancer_data.feature_names)\n",
    "categorical_data['Target'] = breast_cancer_data.target\n",
    "\n",
    "titanic_data = load_dataset('titanic')"
   ]
  },
  {
   "cell_type": "code",
   "execution_count": 2,
   "metadata": {
    "ExecuteTime": {
     "end_time": "2019-06-30T00:06:45.078059Z",
     "start_time": "2019-06-30T00:06:45.073059Z"
    }
   },
   "outputs": [
    {
     "name": "stdout",
     "output_type": "stream",
     "text": [
      "Percent Missing\n",
      "Percent Missing Values: \n",
      "\n",
      "age: 19.87%\n",
      "embarked: 0.22%\n",
      "deck: 77.22%\n",
      "embark_town: 0.22%\n"
     ]
    }
   ],
   "source": [
    "print('Percent Missing')\n",
    "mlcookbook.eda.percent_missing(titanic_data)"
   ]
  },
  {
   "cell_type": "markdown",
   "metadata": {},
   "source": [
    "## Outliers"
   ]
  },
  {
   "cell_type": "code",
   "execution_count": 3,
   "metadata": {
    "ExecuteTime": {
     "end_time": "2019-06-30T00:06:45.093059Z",
     "start_time": "2019-06-30T00:06:45.080059Z"
    }
   },
   "outputs": [
    {
     "name": "stdout",
     "output_type": "stream",
     "text": [
      "IQR outliers\n"
     ]
    },
    {
     "data": {
      "text/plain": [
       "(array([367, 371, 373, 374, 375, 376, 377, 378, 379, 380, 381, 382, 384,\n",
       "        385, 386, 387, 388, 392, 394, 398, 399, 400, 401, 402, 403, 404,\n",
       "        405, 406, 407, 409, 410, 411, 412, 413, 414, 415, 416, 417, 418,\n",
       "        419, 420, 422, 425, 426, 427, 429, 431, 434, 435, 436, 437, 438,\n",
       "        439, 440, 441, 443, 444, 445, 447, 448, 454, 468, 469, 477, 478,\n",
       "        479], dtype=int64),)"
      ]
     },
     "execution_count": 3,
     "metadata": {},
     "output_type": "execute_result"
    }
   ],
   "source": [
    "print('IQR outliers')\n",
    "mlcookbook.eda.iqr_indices_of_outliers(data.iloc[:, 0])"
   ]
  },
  {
   "cell_type": "code",
   "execution_count": 4,
   "metadata": {
    "ExecuteTime": {
     "end_time": "2019-06-30T00:06:45.105057Z",
     "start_time": "2019-06-30T00:06:45.095058Z"
    }
   },
   "outputs": [
    {
     "name": "stdout",
     "output_type": "stream",
     "text": [
      "Z score outliers\n"
     ]
    },
    {
     "data": {
      "text/plain": [
       "(array([380, 398, 404, 405, 410, 414, 418, 427], dtype=int64),)"
      ]
     },
     "execution_count": 4,
     "metadata": {},
     "output_type": "execute_result"
    }
   ],
   "source": [
    "print('Z score outliers')\n",
    "mlcookbook.eda.z_score_indices_of_outliers(data.iloc[:, 0])"
   ]
  },
  {
   "cell_type": "code",
   "execution_count": 5,
   "metadata": {
    "ExecuteTime": {
     "end_time": "2019-06-30T00:06:45.116059Z",
     "start_time": "2019-06-30T00:06:45.107059Z"
    }
   },
   "outputs": [
    {
     "name": "stdout",
     "output_type": "stream",
     "text": [
      "Percentile outliers\n"
     ]
    },
    {
     "data": {
      "text/plain": [
       "(array([  0, 284, 285, 380, 405, 418], dtype=int64),)"
      ]
     },
     "execution_count": 5,
     "metadata": {},
     "output_type": "execute_result"
    }
   ],
   "source": [
    "print('Percentile outliers')\n",
    "mlcookbook.eda.percentile_indices_of_outliers(data.iloc[:, 0])"
   ]
  },
  {
   "cell_type": "code",
   "execution_count": 6,
   "metadata": {
    "ExecuteTime": {
     "end_time": "2019-06-30T00:06:45.923058Z",
     "start_time": "2019-06-30T00:06:45.119059Z"
    }
   },
   "outputs": [
    {
     "name": "stdout",
     "output_type": "stream",
     "text": [
      "Ellipses outliers\n"
     ]
    },
    {
     "data": {
      "text/plain": [
       "(array([367, 374, 375, 376, 378, 379, 380, 381, 384, 385, 386, 387, 388,\n",
       "        392, 394, 398, 400, 401, 403, 404, 405, 406, 407, 409, 410, 411,\n",
       "        412, 413, 414, 415, 416, 417, 418, 419, 422, 425, 426, 427, 434,\n",
       "        435, 436, 437, 438, 440, 444, 445, 454, 468, 469, 477, 479],\n",
       "       dtype=int64),)"
      ]
     },
     "execution_count": 6,
     "metadata": {},
     "output_type": "execute_result"
    }
   ],
   "source": [
    "print('Ellipses outliers')\n",
    "mlcookbook.eda.ellipses_indices_of_outliers(data)"
   ]
  },
  {
   "cell_type": "code",
   "execution_count": 7,
   "metadata": {
    "ExecuteTime": {
     "end_time": "2019-06-30T00:06:46.131056Z",
     "start_time": "2019-06-30T00:06:45.925057Z"
    }
   },
   "outputs": [
    {
     "name": "stdout",
     "output_type": "stream",
     "text": [
      "Isolation Forest outliers\n"
     ]
    },
    {
     "data": {
      "text/plain": [
       "(array([141, 142, 143, 144, 145, 146, 155, 156, 161, 162, 163, 166, 195,\n",
       "        197, 202, 203, 204, 225, 253, 257, 258, 261, 262, 263, 267, 283,\n",
       "        364, 365, 367, 368, 369, 370, 371, 372, 374, 380, 384, 398, 405,\n",
       "        410, 412, 414, 418, 419, 424, 426, 427, 437, 438, 489, 490],\n",
       "       dtype=int64),)"
      ]
     },
     "execution_count": 7,
     "metadata": {},
     "output_type": "execute_result"
    }
   ],
   "source": [
    "print('Isolation Forest outliers')\n",
    "mlcookbook.eda.isolation_forest_indices_of_outliers(data)"
   ]
  },
  {
   "cell_type": "code",
   "execution_count": 8,
   "metadata": {
    "ExecuteTime": {
     "end_time": "2019-06-30T00:06:46.179056Z",
     "start_time": "2019-06-30T00:06:46.133058Z"
    }
   },
   "outputs": [
    {
     "name": "stdout",
     "output_type": "stream",
     "text": [
      "One class SVM outliers\n"
     ]
    },
    {
     "name": "stderr",
     "output_type": "stream",
     "text": [
      "C:\\ProgramData\\Anaconda3\\lib\\site-packages\\sklearn\\svm\\base.py:196: FutureWarning: The default value of gamma will change from 'auto' to 'scale' in version 0.22 to account better for unscaled features. Set gamma explicitly to 'auto' or 'scale' to avoid this warning.\n",
      "  \"avoid this warning.\", FutureWarning)\n"
     ]
    },
    {
     "data": {
      "text/plain": [
       "(array([  0,   2,   3,   5,   6,   7,   9,  10,  12,  13,  15,  16,  17,\n",
       "         20,  21,  22,  25,  30,  31,  32,  33,  34,  35,  38,  39,  41,\n",
       "         42,  43,  44,  48,  49,  50,  51,  53,  54,  55,  56,  63,  68,\n",
       "         73,  75,  76,  79,  81,  89,  93,  94,  97,  99, 101, 107, 109,\n",
       "        110, 112, 114, 115, 118, 119, 120, 121, 122, 123, 127, 130, 135,\n",
       "        136, 138, 140, 141, 143, 144, 148, 151, 153, 154, 155, 161, 164,\n",
       "        166, 167, 168, 171, 172, 176, 177, 180, 181, 185, 186, 192, 194,\n",
       "        200, 201, 205, 206, 208, 209, 213, 214, 216, 220, 221, 222, 223,\n",
       "        225, 226, 228, 229, 230, 234, 239, 242, 244, 247, 249, 255, 258,\n",
       "        259, 260, 262, 263, 264, 265, 266, 267, 268, 271, 272, 273, 281,\n",
       "        282, 283, 291, 292, 293, 297, 302, 305, 308, 309, 312, 314, 315,\n",
       "        322, 323, 329, 332, 333, 337, 341, 343, 344, 346, 347, 349, 350,\n",
       "        352, 353, 354, 359, 363, 364, 371, 373, 374, 375, 376, 378, 382,\n",
       "        383, 385, 389, 390, 394, 397, 399, 403, 407, 408, 411, 412, 414,\n",
       "        416, 417, 419, 421, 428, 430, 431, 432, 433, 434, 437, 438, 439,\n",
       "        441, 442, 443, 445, 448, 451, 453, 454, 456, 457, 458, 463, 464,\n",
       "        466, 467, 468, 472, 473, 476, 479, 481, 483, 487, 488, 489, 490,\n",
       "        491, 492, 494, 495, 496, 499, 501, 504], dtype=int64),)"
      ]
     },
     "execution_count": 8,
     "metadata": {},
     "output_type": "execute_result"
    }
   ],
   "source": [
    "print('One class SVM outliers')\n",
    "mlcookbook.eda.one_class_svm_indices_of_outliers(data)"
   ]
  },
  {
   "cell_type": "code",
   "execution_count": 9,
   "metadata": {
    "ExecuteTime": {
     "end_time": "2019-06-30T00:06:47.194059Z",
     "start_time": "2019-06-30T00:06:46.181058Z"
    },
    "scrolled": false
   },
   "outputs": [
    {
     "name": "stdout",
     "output_type": "stream",
     "text": [
      "Outlier Report\n",
      "Detecting outliers \n",
      "\n",
      "Single feature outlier tests\n",
      "         IQR Z Score Percentile Multiple       IQR %   Z Score % Percentile %  \\\n",
      "CRIM      66       8          6        8    0.130435   0.0158103    0.0118577   \n",
      "INDUS      0       0          3        0           0           0   0.00592885   \n",
      "NOX        0       0          2        0           0           0   0.00395257   \n",
      "RM        30       8          5        8   0.0592885   0.0158103   0.00988142   \n",
      "AGE        0       0          3        0           0           0   0.00592885   \n",
      "DIS        5       5          6        5  0.00988142  0.00988142    0.0118577   \n",
      "TAX        0       0          1        0           0           0   0.00197628   \n",
      "PTRATIO   15       0          5        0   0.0296443           0   0.00988142   \n",
      "B         77      25          3       25    0.152174   0.0494071   0.00592885   \n",
      "LSTAT      7       5          6        5    0.013834  0.00988142    0.0118577   \n",
      "Target    40       0          3        0   0.0790514           0   0.00592885   \n",
      "Total    240      51         43       51    0.474308    0.100791    0.0849802   \n",
      "\n",
      "         Multiple %  \n",
      "CRIM      0.0158103  \n",
      "INDUS             0  \n",
      "NOX               0  \n",
      "RM        0.0158103  \n",
      "AGE               0  \n",
      "DIS      0.00988142  \n",
      "TAX               0  \n",
      "PTRATIO           0  \n",
      "B         0.0494071  \n",
      "LSTAT    0.00988142  \n",
      "Target            0  \n",
      "Total      0.100791   \n",
      "\n",
      "All feature outlier tests\n",
      "- Ellipses Envelope: 51\n",
      "- Isolation Forest: 51\n",
      "- One Class SVM: 229\n"
     ]
    },
    {
     "name": "stderr",
     "output_type": "stream",
     "text": [
      "C:\\ProgramData\\Anaconda3\\lib\\site-packages\\sklearn\\svm\\base.py:196: FutureWarning: The default value of gamma will change from 'auto' to 'scale' in version 0.22 to account better for unscaled features. Set gamma explicitly to 'auto' or 'scale' to avoid this warning.\n",
      "  \"avoid this warning.\", FutureWarning)\n"
     ]
    },
    {
     "data": {
      "text/plain": [
       "{'Ellipses Envelope': (array([367, 374, 375, 376, 378, 379, 380, 381, 384, 385, 386, 387, 388,\n",
       "         392, 394, 398, 400, 401, 403, 404, 405, 406, 407, 409, 410, 411,\n",
       "         412, 413, 414, 415, 416, 417, 418, 419, 422, 425, 426, 427, 434,\n",
       "         435, 436, 437, 438, 440, 444, 445, 454, 468, 469, 477, 479],\n",
       "        dtype=int64),),\n",
       " 'Isolation Forest': (array([  8,  32,  48, 126, 141, 142, 143, 144, 145, 146, 147, 148, 152,\n",
       "         155, 156, 159, 161, 162, 163, 166, 195, 202, 203, 204, 225, 228,\n",
       "         253, 257, 258, 261, 262, 263, 267, 268, 283, 367, 368, 369, 370,\n",
       "         374, 380, 410, 412, 414, 418, 426, 427, 437, 438, 489, 490],\n",
       "        dtype=int64),),\n",
       " 'One Class SVM': (array([  0,   2,   3,   5,   6,   7,   9,  10,  12,  13,  15,  16,  17,\n",
       "          20,  21,  22,  25,  30,  31,  32,  33,  34,  35,  38,  39,  41,\n",
       "          42,  43,  44,  48,  49,  50,  51,  53,  54,  55,  56,  63,  68,\n",
       "          73,  75,  76,  79,  81,  89,  93,  94,  97,  99, 101, 107, 109,\n",
       "         110, 112, 114, 115, 118, 119, 120, 121, 122, 123, 127, 130, 135,\n",
       "         136, 138, 140, 141, 143, 144, 148, 151, 153, 154, 155, 161, 164,\n",
       "         166, 167, 168, 171, 172, 176, 177, 180, 181, 185, 186, 192, 194,\n",
       "         200, 201, 205, 206, 208, 209, 213, 214, 216, 220, 221, 222, 223,\n",
       "         225, 226, 228, 229, 230, 234, 239, 242, 244, 247, 249, 255, 258,\n",
       "         259, 260, 262, 263, 264, 265, 266, 267, 268, 271, 272, 273, 281,\n",
       "         282, 283, 291, 292, 293, 297, 302, 305, 308, 309, 312, 314, 315,\n",
       "         322, 323, 329, 332, 333, 337, 341, 343, 344, 346, 347, 349, 350,\n",
       "         352, 353, 354, 359, 363, 364, 371, 373, 374, 375, 376, 378, 382,\n",
       "         383, 385, 389, 390, 394, 397, 399, 403, 407, 408, 411, 412, 414,\n",
       "         416, 417, 419, 421, 428, 430, 431, 432, 433, 434, 437, 438, 439,\n",
       "         441, 442, 443, 445, 448, 451, 453, 454, 456, 457, 458, 463, 464,\n",
       "         466, 467, 468, 472, 473, 476, 479, 481, 483, 487, 488, 489, 490,\n",
       "         491, 492, 494, 495, 496, 499, 501, 504], dtype=int64),),\n",
       " 'IQR': {'CRIM': array([367, 371, 373, 374, 375, 376, 377, 378, 379, 380, 381, 382, 384,\n",
       "         385, 386, 387, 388, 392, 394, 398, 399, 400, 401, 402, 403, 404,\n",
       "         405, 406, 407, 409, 410, 411, 412, 413, 414, 415, 416, 417, 418,\n",
       "         419, 420, 422, 425, 426, 427, 429, 431, 434, 435, 436, 437, 438,\n",
       "         439, 440, 441, 443, 444, 445, 447, 448, 454, 468, 469, 477, 478,\n",
       "         479], dtype=int64),\n",
       "  'INDUS': array([], dtype=int64),\n",
       "  'NOX': array([], dtype=int64),\n",
       "  'RM': array([ 97,  98, 162, 163, 166, 180, 186, 195, 203, 204, 224, 225, 226,\n",
       "         232, 233, 253, 257, 262, 267, 280, 283, 364, 365, 367, 374, 384,\n",
       "         386, 406, 412, 414], dtype=int64),\n",
       "  'AGE': array([], dtype=int64),\n",
       "  'DIS': array([351, 352, 353, 354, 355], dtype=int64),\n",
       "  'TAX': array([], dtype=int64),\n",
       "  'PTRATIO': array([196, 197, 198, 257, 258, 259, 260, 261, 262, 263, 264, 265, 266,\n",
       "         267, 268], dtype=int64),\n",
       "  'B': array([ 18,  25,  27,  32,  34, 102, 118, 134, 145, 146, 151, 152, 153,\n",
       "         154, 155, 156, 160, 165, 167, 168, 169, 170, 286, 366, 367, 384,\n",
       "         399, 404, 407, 408, 409, 410, 411, 412, 413, 414, 415, 416, 417,\n",
       "         418, 419, 420, 421, 422, 423, 424, 425, 426, 427, 428, 429, 430,\n",
       "         431, 432, 433, 434, 435, 436, 437, 438, 444, 445, 446, 449, 450,\n",
       "         454, 455, 456, 457, 458, 460, 465, 466, 467, 475, 489, 490],\n",
       "        dtype=int64),\n",
       "  'LSTAT': array([141, 373, 374, 387, 412, 414, 438], dtype=int64),\n",
       "  'Target': array([ 97,  98, 157, 161, 162, 163, 166, 179, 180, 182, 186, 190, 195,\n",
       "         202, 203, 204, 224, 225, 226, 228, 232, 233, 253, 256, 257, 261,\n",
       "         262, 267, 268, 280, 282, 283, 291, 368, 369, 370, 371, 372, 398,\n",
       "         405], dtype=int64)},\n",
       " 'Z Score': {'CRIM': array([380, 398, 404, 405, 410, 414, 418, 427], dtype=int64),\n",
       "  'INDUS': array([], dtype=int64),\n",
       "  'NOX': array([], dtype=int64),\n",
       "  'RM': array([225, 257, 262, 364, 365, 367, 374, 406], dtype=int64),\n",
       "  'AGE': array([], dtype=int64),\n",
       "  'DIS': array([351, 352, 353, 354, 355], dtype=int64),\n",
       "  'TAX': array([], dtype=int64),\n",
       "  'PTRATIO': array([], dtype=int64),\n",
       "  'B': array([102, 410, 411, 412, 415, 416, 418, 419, 423, 424, 425, 426, 427,\n",
       "         429, 431, 436, 437, 438, 445, 450, 454, 455, 456, 457, 466],\n",
       "        dtype=int64),\n",
       "  'LSTAT': array([141, 373, 374, 412, 414], dtype=int64),\n",
       "  'Target': array([], dtype=int64)},\n",
       " 'Percentile': {'CRIM': array([  0, 284, 285, 380, 405, 418], dtype=int64),\n",
       "  'INDUS': array([ 56, 195, 283], dtype=int64),\n",
       "  'NOX': array([285, 286], dtype=int64),\n",
       "  'RM': array([225, 257, 364, 365, 367], dtype=int64),\n",
       "  'AGE': array([41, 73, 74], dtype=int64),\n",
       "  'DIS': array([351, 352, 353, 371, 372, 374], dtype=int64),\n",
       "  'TAX': array([353], dtype=int64),\n",
       "  'PTRATIO': array([196, 197, 198, 354, 355], dtype=int64),\n",
       "  'B': array([410, 423, 450], dtype=int64),\n",
       "  'LSTAT': array([ 40, 161, 162, 373, 374, 414], dtype=int64),\n",
       "  'Target': array([398, 400, 405], dtype=int64)},\n",
       " 'Multiple': {'CRIM': array([380, 398, 404, 405, 410, 414, 418, 427], dtype=int64),\n",
       "  'INDUS': array([], dtype=int64),\n",
       "  'NOX': array([], dtype=int64),\n",
       "  'RM': array([225, 257, 262, 364, 365, 367, 374, 406], dtype=int64),\n",
       "  'AGE': array([], dtype=int64),\n",
       "  'DIS': array([351, 352, 353, 354, 355], dtype=int64),\n",
       "  'TAX': array([], dtype=int64),\n",
       "  'PTRATIO': array([], dtype=int64),\n",
       "  'B': array([102, 410, 411, 412, 415, 416, 418, 419, 423, 424, 425, 426, 427,\n",
       "         429, 431, 436, 437, 438, 445, 450, 454, 455, 456, 457, 466],\n",
       "        dtype=int64),\n",
       "  'LSTAT': array([141, 373, 374, 412, 414], dtype=int64),\n",
       "  'Target': array([], dtype=int64)}}"
      ]
     },
     "execution_count": 9,
     "metadata": {},
     "output_type": "execute_result"
    }
   ],
   "source": [
    "print('Outlier Report')\n",
    "mlcookbook.eda.outlier_report(data)"
   ]
  },
  {
   "cell_type": "markdown",
   "metadata": {},
   "source": [
    "## Preprocessing"
   ]
  },
  {
   "cell_type": "code",
   "execution_count": 10,
   "metadata": {
    "ExecuteTime": {
     "end_time": "2019-06-30T00:06:47.220059Z",
     "start_time": "2019-06-30T00:06:47.196059Z"
    }
   },
   "outputs": [
    {
     "name": "stdout",
     "output_type": "stream",
     "text": [
      "PCA\n",
      "Total variance % explained: 99.47547798971576\n",
      "\n",
      "Variance % explained by principal component:\n",
      "0 : 52.40359199401038\n",
      "1 : 11.90709019180578\n",
      "2 : 9.14680592105265\n",
      "3 : 6.065593317676156\n",
      "4 : 5.329659989504557\n",
      "5 : 4.189201829407195\n",
      "6 : 3.0784920531932687\n",
      "7 : 2.4340904719387266\n",
      "8 : 1.334769086567469\n",
      "9 : 1.192136172161672\n",
      "10 : 0.859088493451943\n",
      "11 : 0.790408698079883\n",
      "12 : 0.7445497708660539\n"
     ]
    },
    {
     "data": {
      "text/plain": [
       "array([[-0.56709519,  0.15613447,  0.01698635, ..., -0.13715014,\n",
       "        -0.0358962 ,  0.04556913],\n",
       "       [-0.42633164,  0.25114179, -0.18768805, ...,  0.04660025,\n",
       "         0.00684545,  0.0536297 ],\n",
       "       [-0.58068173,  0.143294  ,  0.00128317, ...,  0.06890589,\n",
       "        -0.00825431, -0.0158398 ],\n",
       "       ...,\n",
       "       [-0.18116716,  0.39693602, -0.20295807, ..., -0.02189769,\n",
       "        -0.05947226,  0.07618167],\n",
       "       [-0.17393509,  0.38548429, -0.23495641, ..., -0.01993153,\n",
       "        -0.04965579,  0.077509  ],\n",
       "       [-0.14446137,  0.35112255, -0.37054574, ..., -0.05930353,\n",
       "        -0.02947907,  0.14699223]])"
      ]
     },
     "execution_count": 10,
     "metadata": {},
     "output_type": "execute_result"
    }
   ],
   "source": [
    "print('PCA')\n",
    "mlcookbook.process.fit_PCA(data)"
   ]
  },
  {
   "cell_type": "code",
   "execution_count": 11,
   "metadata": {
    "ExecuteTime": {
     "end_time": "2019-06-30T00:06:47.265060Z",
     "start_time": "2019-06-30T00:06:47.222059Z"
    },
    "scrolled": false
   },
   "outputs": [
    {
     "name": "stdout",
     "output_type": "stream",
     "text": [
      "Oversampling binary label\n",
      "Initial number of observations in each class:\n",
      "1    357\n",
      "0    212\n",
      "Name: Target, dtype: int64\n",
      "\n",
      "Oversampled number of observations in each class:\n",
      "1    357\n",
      "0    212\n",
      "Name: Target, dtype: int64\n"
     ]
    },
    {
     "data": {
      "text/html": [
       "<div>\n",
       "<style scoped>\n",
       "    .dataframe tbody tr th:only-of-type {\n",
       "        vertical-align: middle;\n",
       "    }\n",
       "\n",
       "    .dataframe tbody tr th {\n",
       "        vertical-align: top;\n",
       "    }\n",
       "\n",
       "    .dataframe thead th {\n",
       "        text-align: right;\n",
       "    }\n",
       "</style>\n",
       "<table border=\"1\" class=\"dataframe\">\n",
       "  <thead>\n",
       "    <tr style=\"text-align: right;\">\n",
       "      <th></th>\n",
       "      <th>mean radius</th>\n",
       "      <th>mean texture</th>\n",
       "      <th>mean perimeter</th>\n",
       "      <th>mean area</th>\n",
       "      <th>mean smoothness</th>\n",
       "      <th>mean compactness</th>\n",
       "      <th>mean concavity</th>\n",
       "      <th>mean concave points</th>\n",
       "      <th>mean symmetry</th>\n",
       "      <th>mean fractal dimension</th>\n",
       "      <th>...</th>\n",
       "      <th>worst texture</th>\n",
       "      <th>worst perimeter</th>\n",
       "      <th>worst area</th>\n",
       "      <th>worst smoothness</th>\n",
       "      <th>worst compactness</th>\n",
       "      <th>worst concavity</th>\n",
       "      <th>worst concave points</th>\n",
       "      <th>worst symmetry</th>\n",
       "      <th>worst fractal dimension</th>\n",
       "      <th>Target</th>\n",
       "    </tr>\n",
       "  </thead>\n",
       "  <tbody>\n",
       "    <tr>\n",
       "      <th>19</th>\n",
       "      <td>13.540</td>\n",
       "      <td>14.36</td>\n",
       "      <td>87.46</td>\n",
       "      <td>566.3</td>\n",
       "      <td>0.09779</td>\n",
       "      <td>0.08129</td>\n",
       "      <td>0.06664</td>\n",
       "      <td>0.047810</td>\n",
       "      <td>0.1885</td>\n",
       "      <td>0.05766</td>\n",
       "      <td>...</td>\n",
       "      <td>19.26</td>\n",
       "      <td>99.70</td>\n",
       "      <td>711.2</td>\n",
       "      <td>0.14400</td>\n",
       "      <td>0.17730</td>\n",
       "      <td>0.23900</td>\n",
       "      <td>0.12880</td>\n",
       "      <td>0.2977</td>\n",
       "      <td>0.07259</td>\n",
       "      <td>1</td>\n",
       "    </tr>\n",
       "    <tr>\n",
       "      <th>20</th>\n",
       "      <td>13.080</td>\n",
       "      <td>15.71</td>\n",
       "      <td>85.63</td>\n",
       "      <td>520.0</td>\n",
       "      <td>0.10750</td>\n",
       "      <td>0.12700</td>\n",
       "      <td>0.04568</td>\n",
       "      <td>0.031100</td>\n",
       "      <td>0.1967</td>\n",
       "      <td>0.06811</td>\n",
       "      <td>...</td>\n",
       "      <td>20.49</td>\n",
       "      <td>96.09</td>\n",
       "      <td>630.5</td>\n",
       "      <td>0.13120</td>\n",
       "      <td>0.27760</td>\n",
       "      <td>0.18900</td>\n",
       "      <td>0.07283</td>\n",
       "      <td>0.3184</td>\n",
       "      <td>0.08183</td>\n",
       "      <td>1</td>\n",
       "    </tr>\n",
       "    <tr>\n",
       "      <th>21</th>\n",
       "      <td>9.504</td>\n",
       "      <td>12.44</td>\n",
       "      <td>60.34</td>\n",
       "      <td>273.9</td>\n",
       "      <td>0.10240</td>\n",
       "      <td>0.06492</td>\n",
       "      <td>0.02956</td>\n",
       "      <td>0.020760</td>\n",
       "      <td>0.1815</td>\n",
       "      <td>0.06905</td>\n",
       "      <td>...</td>\n",
       "      <td>15.66</td>\n",
       "      <td>65.13</td>\n",
       "      <td>314.9</td>\n",
       "      <td>0.13240</td>\n",
       "      <td>0.11480</td>\n",
       "      <td>0.08867</td>\n",
       "      <td>0.06227</td>\n",
       "      <td>0.2450</td>\n",
       "      <td>0.07773</td>\n",
       "      <td>1</td>\n",
       "    </tr>\n",
       "    <tr>\n",
       "      <th>37</th>\n",
       "      <td>13.030</td>\n",
       "      <td>18.42</td>\n",
       "      <td>82.61</td>\n",
       "      <td>523.8</td>\n",
       "      <td>0.08983</td>\n",
       "      <td>0.03766</td>\n",
       "      <td>0.02562</td>\n",
       "      <td>0.029230</td>\n",
       "      <td>0.1467</td>\n",
       "      <td>0.05863</td>\n",
       "      <td>...</td>\n",
       "      <td>22.81</td>\n",
       "      <td>84.46</td>\n",
       "      <td>545.9</td>\n",
       "      <td>0.09701</td>\n",
       "      <td>0.04619</td>\n",
       "      <td>0.04833</td>\n",
       "      <td>0.05013</td>\n",
       "      <td>0.1987</td>\n",
       "      <td>0.06169</td>\n",
       "      <td>1</td>\n",
       "    </tr>\n",
       "    <tr>\n",
       "      <th>46</th>\n",
       "      <td>8.196</td>\n",
       "      <td>16.84</td>\n",
       "      <td>51.71</td>\n",
       "      <td>201.9</td>\n",
       "      <td>0.08600</td>\n",
       "      <td>0.05943</td>\n",
       "      <td>0.01588</td>\n",
       "      <td>0.005917</td>\n",
       "      <td>0.1769</td>\n",
       "      <td>0.06503</td>\n",
       "      <td>...</td>\n",
       "      <td>21.96</td>\n",
       "      <td>57.26</td>\n",
       "      <td>242.2</td>\n",
       "      <td>0.12970</td>\n",
       "      <td>0.13570</td>\n",
       "      <td>0.06880</td>\n",
       "      <td>0.02564</td>\n",
       "      <td>0.3105</td>\n",
       "      <td>0.07409</td>\n",
       "      <td>1</td>\n",
       "    </tr>\n",
       "  </tbody>\n",
       "</table>\n",
       "<p>5 rows × 31 columns</p>\n",
       "</div>"
      ],
      "text/plain": [
       "    mean radius  mean texture  mean perimeter  mean area  mean smoothness  \\\n",
       "19       13.540         14.36           87.46      566.3          0.09779   \n",
       "20       13.080         15.71           85.63      520.0          0.10750   \n",
       "21        9.504         12.44           60.34      273.9          0.10240   \n",
       "37       13.030         18.42           82.61      523.8          0.08983   \n",
       "46        8.196         16.84           51.71      201.9          0.08600   \n",
       "\n",
       "    mean compactness  mean concavity  mean concave points  mean symmetry  \\\n",
       "19           0.08129         0.06664             0.047810         0.1885   \n",
       "20           0.12700         0.04568             0.031100         0.1967   \n",
       "21           0.06492         0.02956             0.020760         0.1815   \n",
       "37           0.03766         0.02562             0.029230         0.1467   \n",
       "46           0.05943         0.01588             0.005917         0.1769   \n",
       "\n",
       "    mean fractal dimension   ...    worst texture  worst perimeter  \\\n",
       "19                 0.05766   ...            19.26            99.70   \n",
       "20                 0.06811   ...            20.49            96.09   \n",
       "21                 0.06905   ...            15.66            65.13   \n",
       "37                 0.05863   ...            22.81            84.46   \n",
       "46                 0.06503   ...            21.96            57.26   \n",
       "\n",
       "    worst area  worst smoothness  worst compactness  worst concavity  \\\n",
       "19       711.2           0.14400            0.17730          0.23900   \n",
       "20       630.5           0.13120            0.27760          0.18900   \n",
       "21       314.9           0.13240            0.11480          0.08867   \n",
       "37       545.9           0.09701            0.04619          0.04833   \n",
       "46       242.2           0.12970            0.13570          0.06880   \n",
       "\n",
       "    worst concave points  worst symmetry  worst fractal dimension  Target  \n",
       "19               0.12880          0.2977                  0.07259       1  \n",
       "20               0.07283          0.3184                  0.08183       1  \n",
       "21               0.06227          0.2450                  0.07773       1  \n",
       "37               0.05013          0.1987                  0.06169       1  \n",
       "46               0.02564          0.3105                  0.07409       1  \n",
       "\n",
       "[5 rows x 31 columns]"
      ]
     },
     "execution_count": 11,
     "metadata": {},
     "output_type": "execute_result"
    }
   ],
   "source": [
    "print('Oversampling binary label')\n",
    "# TODO: Fix the oversampled number in each class\n",
    "mlcookbook.process.oversample_binary_label(categorical_data, 'Target').head()"
   ]
  },
  {
   "cell_type": "code",
   "execution_count": 12,
   "metadata": {
    "ExecuteTime": {
     "end_time": "2019-06-30T00:06:47.423057Z",
     "start_time": "2019-06-30T00:06:47.268063Z"
    }
   },
   "outputs": [
    {
     "name": "stdout",
     "output_type": "stream",
     "text": [
      "Oversampling with SMOTE Test\n",
      "Previous training size: 569\n",
      "Oversampled training size 714 \n",
      "\n",
      "Previous label mean: 0.6274165202108963\n",
      "Oversampled label mean: 0.5\n"
     ]
    },
    {
     "data": {
      "text/plain": [
       "(array([[1.79900000e+01, 1.03800000e+01, 1.22800000e+02, ...,\n",
       "         2.65400000e-01, 4.60100000e-01, 1.18900000e-01],\n",
       "        [2.05700000e+01, 1.77700000e+01, 1.32900000e+02, ...,\n",
       "         1.86000000e-01, 2.75000000e-01, 8.90200000e-02],\n",
       "        [1.96900000e+01, 2.12500000e+01, 1.30000000e+02, ...,\n",
       "         2.43000000e-01, 3.61300000e-01, 8.75800000e-02],\n",
       "        ...,\n",
       "        [1.53234561e+01, 2.99707263e+01, 1.01083777e+02, ...,\n",
       "         1.79001463e-01, 3.11818966e-01, 1.08457174e-01],\n",
       "        [1.73657637e+01, 2.24860566e+01, 1.11286613e+02, ...,\n",
       "         8.68820748e-02, 2.47378262e-01, 6.61560131e-02],\n",
       "        [2.18723240e+01, 2.10745001e+01, 1.47686286e+02, ...,\n",
       "         1.88164053e-01, 2.89384008e-01, 8.88447670e-02]]),\n",
       " array([0, 0, 0, 0, 0, 0, 0, 0, 0, 0, 0, 0, 0, 0, 0, 0, 0, 0, 0, 1, 1, 1,\n",
       "        0, 0, 0, 0, 0, 0, 0, 0, 0, 0, 0, 0, 0, 0, 0, 1, 0, 0, 0, 0, 0, 0,\n",
       "        0, 0, 1, 0, 1, 1, 1, 1, 1, 0, 0, 1, 0, 0, 1, 1, 1, 1, 0, 1, 0, 0,\n",
       "        1, 1, 1, 1, 0, 1, 0, 0, 1, 0, 1, 0, 0, 1, 1, 1, 0, 0, 1, 0, 0, 0,\n",
       "        1, 1, 1, 0, 1, 1, 0, 0, 1, 1, 1, 0, 0, 1, 1, 1, 1, 0, 1, 1, 0, 1,\n",
       "        1, 1, 1, 1, 1, 1, 1, 0, 0, 0, 1, 0, 0, 1, 1, 1, 0, 0, 1, 0, 1, 0,\n",
       "        0, 1, 0, 0, 1, 1, 0, 1, 1, 0, 1, 1, 1, 1, 0, 1, 1, 1, 1, 1, 1, 1,\n",
       "        1, 1, 0, 1, 1, 1, 1, 0, 0, 1, 0, 1, 1, 0, 0, 1, 1, 0, 0, 1, 1, 1,\n",
       "        1, 0, 1, 1, 0, 0, 0, 1, 0, 1, 0, 1, 1, 1, 0, 1, 1, 0, 0, 1, 0, 0,\n",
       "        0, 0, 1, 0, 0, 0, 1, 0, 1, 0, 1, 1, 0, 1, 0, 0, 0, 0, 1, 1, 0, 0,\n",
       "        1, 1, 1, 0, 1, 1, 1, 1, 1, 0, 0, 1, 1, 0, 1, 1, 0, 0, 1, 0, 1, 1,\n",
       "        1, 1, 0, 1, 1, 1, 1, 1, 0, 1, 0, 0, 0, 0, 0, 0, 0, 0, 0, 0, 0, 0,\n",
       "        0, 0, 1, 1, 1, 1, 1, 1, 0, 1, 0, 1, 1, 0, 1, 1, 0, 1, 0, 0, 1, 1,\n",
       "        1, 1, 1, 1, 1, 1, 1, 1, 1, 1, 1, 0, 1, 1, 0, 1, 0, 1, 1, 1, 1, 1,\n",
       "        1, 1, 1, 1, 1, 1, 1, 1, 1, 0, 1, 1, 1, 0, 1, 0, 1, 1, 1, 1, 0, 0,\n",
       "        0, 1, 1, 1, 1, 0, 1, 0, 1, 0, 1, 1, 1, 0, 1, 1, 1, 1, 1, 1, 1, 0,\n",
       "        0, 0, 1, 1, 1, 1, 1, 1, 1, 1, 1, 1, 1, 0, 0, 1, 0, 0, 0, 1, 0, 0,\n",
       "        1, 1, 1, 1, 1, 0, 1, 1, 1, 1, 1, 0, 1, 1, 1, 0, 1, 1, 0, 0, 1, 1,\n",
       "        1, 1, 1, 1, 0, 1, 1, 1, 1, 1, 1, 1, 0, 1, 1, 1, 1, 1, 0, 1, 1, 0,\n",
       "        1, 1, 1, 1, 1, 1, 1, 1, 1, 1, 1, 1, 0, 1, 0, 0, 1, 0, 1, 1, 1, 1,\n",
       "        1, 0, 1, 1, 0, 1, 0, 1, 1, 0, 1, 0, 1, 1, 1, 1, 1, 1, 1, 1, 0, 0,\n",
       "        1, 1, 1, 1, 1, 1, 0, 1, 1, 1, 1, 1, 1, 1, 1, 1, 1, 0, 1, 1, 1, 1,\n",
       "        1, 1, 1, 0, 1, 0, 1, 1, 0, 1, 1, 1, 1, 1, 0, 0, 1, 0, 1, 0, 1, 1,\n",
       "        1, 1, 1, 0, 1, 1, 0, 1, 0, 1, 0, 0, 1, 1, 1, 0, 1, 1, 1, 1, 1, 1,\n",
       "        1, 1, 1, 1, 1, 0, 1, 0, 0, 1, 1, 1, 1, 1, 1, 1, 1, 1, 1, 1, 1, 1,\n",
       "        1, 1, 1, 1, 1, 1, 1, 1, 1, 1, 1, 1, 0, 0, 0, 0, 0, 0, 1, 0, 0, 0,\n",
       "        0, 0, 0, 0, 0, 0, 0, 0, 0, 0, 0, 0, 0, 0, 0, 0, 0, 0, 0, 0, 0, 0,\n",
       "        0, 0, 0, 0, 0, 0, 0, 0, 0, 0, 0, 0, 0, 0, 0, 0, 0, 0, 0, 0, 0, 0,\n",
       "        0, 0, 0, 0, 0, 0, 0, 0, 0, 0, 0, 0, 0, 0, 0, 0, 0, 0, 0, 0, 0, 0,\n",
       "        0, 0, 0, 0, 0, 0, 0, 0, 0, 0, 0, 0, 0, 0, 0, 0, 0, 0, 0, 0, 0, 0,\n",
       "        0, 0, 0, 0, 0, 0, 0, 0, 0, 0, 0, 0, 0, 0, 0, 0, 0, 0, 0, 0, 0, 0,\n",
       "        0, 0, 0, 0, 0, 0, 0, 0, 0, 0, 0, 0, 0, 0, 0, 0, 0, 0, 0, 0, 0, 0,\n",
       "        0, 0, 0, 0, 0, 0, 0, 0, 0, 0]))"
      ]
     },
     "execution_count": 12,
     "metadata": {},
     "output_type": "execute_result"
    }
   ],
   "source": [
    "print('Oversampling with SMOTE Test')\n",
    "mlcookbook.process.oversample_smote(categorical_data.drop(\n",
    "    'Target', axis=1), categorical_data['Target'])"
   ]
  },
  {
   "cell_type": "code",
   "execution_count": 13,
   "metadata": {
    "ExecuteTime": {
     "end_time": "2019-06-30T00:06:47.448061Z",
     "start_time": "2019-06-30T00:06:47.425060Z"
    },
    "scrolled": false
   },
   "outputs": [
    {
     "name": "stdout",
     "output_type": "stream",
     "text": [
      "Target Mean Encoding\n"
     ]
    },
    {
     "data": {
      "text/plain": [
       "0    0.242363\n",
       "1    0.629630\n",
       "2    0.242363\n",
       "3    0.629630\n",
       "4    0.242363\n",
       "Name: pclass_mean, dtype: float64"
      ]
     },
     "execution_count": 13,
     "metadata": {},
     "output_type": "execute_result"
    }
   ],
   "source": [
    "print('Target Mean Encoding')\n",
    "mlcookbook.process.target_encode(\n",
    "    titanic_data['pclass'], titanic_data['pclass'], titanic_data['survived'])[0].head()"
   ]
  },
  {
   "cell_type": "code",
   "execution_count": 14,
   "metadata": {
    "ExecuteTime": {
     "end_time": "2019-06-30T00:06:55.984059Z",
     "start_time": "2019-06-30T00:06:47.449062Z"
    },
    "scrolled": false
   },
   "outputs": [
    {
     "name": "stdout",
     "output_type": "stream",
     "text": [
      "Beginning random search at 2019-06-29 17:06:47\n"
     ]
    },
    {
     "name": "stderr",
     "output_type": "stream",
     "text": [
      "C:\\ProgramData\\Anaconda3\\lib\\site-packages\\sklearn\\model_selection\\_search.py:841: DeprecationWarning: The default of the `iid` parameter will change from True to False in version 0.22 and will be removed in 0.24. This will change numeric results when test-set sizes are unequal.\n",
      "  DeprecationWarning)\n"
     ]
    },
    {
     "name": "stdout",
     "output_type": "stream",
     "text": [
      "Completed random search at 2019-06-29 17:06:55\n",
      "\n",
      "Best Estimator: RandomForestRegressor(bootstrap=True, criterion='mae', max_depth=None,\n",
      "           max_features=11, max_leaf_nodes=None, min_impurity_decrease=0.0,\n",
      "           min_impurity_split=None, min_samples_leaf=5,\n",
      "           min_samples_split=4, min_weight_fraction_leaf=0.0,\n",
      "           n_estimators=300, n_jobs=-1, oob_score=False, random_state=None,\n",
      "           verbose=0, warm_start=False)\n",
      "Best Parameters: {'bootstrap': True, 'criterion': 'mae', 'max_depth': None, 'max_features': 11, 'min_samples_leaf': 5, 'min_samples_split': 4, 'n_estimators': 300}\n",
      "Best Score: 0.5451192831039922\n"
     ]
    },
    {
     "data": {
      "text/plain": [
       "RandomizedSearchCV(cv=3, error_score='raise-deprecating',\n",
       "          estimator=RandomForestRegressor(bootstrap=True, criterion='mse', max_depth=None,\n",
       "           max_features='auto', max_leaf_nodes=None,\n",
       "           min_impurity_decrease=0.0, min_impurity_split=None,\n",
       "           min_samples_leaf=1, min_samples_split=2,\n",
       "           min_weight_fraction_leaf=0.0, n_estimators='warn', n_jobs=-1,\n",
       "           oob_score=False, random_state=None, verbose=0, warm_start=False),\n",
       "          fit_params=None, iid='warn', n_iter=5, n_jobs=-1,\n",
       "          param_distributions={'n_estimators': [100, 300], 'max_depth': [3, None], 'max_features': <scipy.stats._distn_infrastructure.rv_frozen object at 0x000002DE7B0AE400>, 'min_samples_split': <scipy.stats._distn_infrastructure.rv_frozen object at 0x000002DE7B0AE358>, 'min_samples_leaf': <scipy.stats._distn_infrastructure.rv_frozen object at 0x000002DE7B0AE6D8>, 'bootstrap': [True, False], 'criterion': ['mse', 'mae']},\n",
       "          pre_dispatch='2*n_jobs', random_state=None, refit=True,\n",
       "          return_train_score='warn', scoring=None, verbose=0)"
      ]
     },
     "execution_count": 14,
     "metadata": {},
     "output_type": "execute_result"
    }
   ],
   "source": [
    "from sklearn.ensemble import RandomForestRegressor\n",
    "from scipy.stats import randint as sp_randint\n",
    "\n",
    "\n",
    "X = data.drop('Target', axis=1)\n",
    "y = data['Target']\n",
    "model = RandomForestRegressor(n_jobs=-1)\n",
    "parameters = {'n_estimators': [100, 300],\n",
    "              'max_depth': [3, None],\n",
    "              'max_features': sp_randint(1, X.shape[1]),\n",
    "              'min_samples_split': sp_randint(2, 11),\n",
    "              'min_samples_leaf': sp_randint(1, 11),\n",
    "              'bootstrap': [True, False],\n",
    "              'criterion': ['mse', 'mae']}\n",
    "\n",
    "mlcookbook.ml.hyperparameter_random_search(\n",
    "    X, y, model=model, parameters=parameters, num_iterations=5, num_folds=3)"
   ]
  },
  {
   "cell_type": "code",
   "execution_count": 15,
   "metadata": {
    "ExecuteTime": {
     "end_time": "2019-06-30T00:06:56.974059Z",
     "start_time": "2019-06-30T00:06:55.986059Z"
    }
   },
   "outputs": [
    {
     "data": {
      "text/plain": [
       "<Figure size 504x360 with 0 Axes>"
      ]
     },
     "metadata": {},
     "output_type": "display_data"
    },
    {
     "data": {
      "image/png": "[encoded data removed]",
      "text/plain": [
       "<Figure size 432x288 with 1 Axes>"
      ]
     },
     "metadata": {},
     "output_type": "display_data"
    },
    {
     "name": "stdout",
     "output_type": "stream",
     "text": [
      "Threshold for Optimal F1 Score:\n"
     ]
    },
    {
     "data": {
      "text/plain": [
       "Threshold    0.630000\n",
       "F1 Score     0.973202\n",
       "Name: 63, dtype: float64"
      ]
     },
     "execution_count": 15,
     "metadata": {},
     "output_type": "execute_result"
    }
   ],
   "source": [
    "from sklearn.linear_model import LogisticRegression\n",
    "\n",
    "X_categorical = categorical_data.drop('Target', axis=1)\n",
    "y_categorical = categorical_data['Target']\n",
    "\n",
    "logistic_model = LogisticRegression(solver='lbfgs', max_iter=10000)\n",
    "logistic_model.fit(X_categorical, y_categorical)\n",
    "\n",
    "mlcookbook.ml.optimal_probability_cutoff(\n",
    "    logistic_model, X_categorical, y_categorical)"
   ]
  },
  {
   "cell_type": "code",
   "execution_count": 19,
   "metadata": {
    "ExecuteTime": {
     "end_time": "2019-06-30T00:25:58.633675Z",
     "start_time": "2019-06-30T00:25:50.244662Z"
    }
   },
   "outputs": [
    {
     "name": "stdout",
     "output_type": "stream",
     "text": [
      "Generating predictions with the model\n",
      "Generating upper and lower prediction intervals\n"
     ]
    },
    {
     "data": {
      "text/html": [
       "<div>\n",
       "<style scoped>\n",
       "    .dataframe tbody tr th:only-of-type {\n",
       "        vertical-align: middle;\n",
       "    }\n",
       "\n",
       "    .dataframe tbody tr th {\n",
       "        vertical-align: top;\n",
       "    }\n",
       "\n",
       "    .dataframe thead th {\n",
       "        text-align: right;\n",
       "    }\n",
       "</style>\n",
       "<table border=\"1\" class=\"dataframe\">\n",
       "  <thead>\n",
       "    <tr style=\"text-align: right;\">\n",
       "      <th></th>\n",
       "      <th>lower_PI</th>\n",
       "      <th>prediction</th>\n",
       "      <th>upper_PI</th>\n",
       "    </tr>\n",
       "  </thead>\n",
       "  <tbody>\n",
       "    <tr>\n",
       "      <th>0</th>\n",
       "      <td>22.012375</td>\n",
       "      <td>25.253</td>\n",
       "      <td>35.035650</td>\n",
       "    </tr>\n",
       "    <tr>\n",
       "      <th>1</th>\n",
       "      <td>12.013850</td>\n",
       "      <td>21.981</td>\n",
       "      <td>29.090100</td>\n",
       "    </tr>\n",
       "    <tr>\n",
       "      <th>2</th>\n",
       "      <td>23.721275</td>\n",
       "      <td>34.542</td>\n",
       "      <td>49.700525</td>\n",
       "    </tr>\n",
       "    <tr>\n",
       "      <th>3</th>\n",
       "      <td>26.639600</td>\n",
       "      <td>34.241</td>\n",
       "      <td>49.685675</td>\n",
       "    </tr>\n",
       "    <tr>\n",
       "      <th>4</th>\n",
       "      <td>28.774250</td>\n",
       "      <td>35.710</td>\n",
       "      <td>37.900000</td>\n",
       "    </tr>\n",
       "  </tbody>\n",
       "</table>\n",
       "</div>"
      ],
      "text/plain": [
       "    lower_PI  prediction   upper_PI\n",
       "0  22.012375      25.253  35.035650\n",
       "1  12.013850      21.981  29.090100\n",
       "2  23.721275      34.542  49.700525\n",
       "3  26.639600      34.241  49.685675\n",
       "4  28.774250      35.710  37.900000"
      ]
     },
     "execution_count": 19,
     "metadata": {},
     "output_type": "execute_result"
    }
   ],
   "source": [
    "X = data.drop('Target', axis=1)\n",
    "y = data['Target']\n",
    "model = RandomForestRegressor(n_estimators=100, n_jobs=-1)\n",
    "model.fit(X, y)\n",
    "\n",
    "prediction_intervals = mlcookbook.ml.ensemble_prediction_intervals(model, X)\n",
    "prediction_intervals.head()"
   ]
  }
 ],
 "metadata": {
  "kernelspec": {
   "display_name": "Python 3",
   "language": "python",
   "name": "python3"
  },
  "language_info": {
   "codemirror_mode": {
    "name": "ipython",
    "version": 3
   },
   "file_extension": ".py",
   "mimetype": "text/x-python",
   "name": "python",
   "nbconvert_exporter": "python",
   "pygments_lexer": "ipython3",
   "version": "3.6.6"
  },
  "varInspector": {
   "cols": {
    "lenName": 16,
    "lenType": 16,
    "lenVar": 40
   },
   "kernels_config": {
    "python": {
     "delete_cmd_postfix": "",
     "delete_cmd_prefix": "del ",
     "library": "var_list.py",
     "varRefreshCmd": "print(var_dic_list())"
    },
    "r": {
     "delete_cmd_postfix": ") ",
     "delete_cmd_prefix": "rm(",
     "library": "var_list.r",
     "varRefreshCmd": "cat(var_dic_list()) "
    }
   },
   "types_to_exclude": [
    "module",
    "function",
    "builtin_function_or_method",
    "instance",
    "_Feature"
   ],
   "window_display": false
  }
 },
 "nbformat": 4,
 "nbformat_minor": 2
}
